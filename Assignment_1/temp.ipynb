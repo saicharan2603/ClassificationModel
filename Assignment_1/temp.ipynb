{
 "cells": [
  {
   "cell_type": "code",
   "execution_count": 1,
   "metadata": {},
   "outputs": [
    {
     "ename": "KeyboardInterrupt",
     "evalue": "",
     "output_type": "error",
     "traceback": [
      "\u001b[0;31m---------------------------------------------------------------------------\u001b[0m",
      "\u001b[0;31mKeyboardInterrupt\u001b[0m                         Traceback (most recent call last)",
      "Cell \u001b[0;32mIn[1], line 6\u001b[0m\n\u001b[1;32m      3\u001b[0m \u001b[39mfrom\u001b[39;00m \u001b[39mModel\u001b[39;00m \u001b[39mimport\u001b[39;00m Train_MLP_Models \u001b[39mas\u001b[39;00m MLP\n\u001b[1;32m      5\u001b[0m \u001b[39m# importing data\u001b[39;00m\n\u001b[0;32m----> 6\u001b[0m data \u001b[39m=\u001b[39m Data()\n\u001b[1;32m      8\u001b[0m \u001b[39m# train the MLP models with these hyper parameters\u001b[39;00m\n\u001b[1;32m      9\u001b[0m \u001b[39m# trains on both original and augmented data\u001b[39;00m\n\u001b[1;32m     10\u001b[0m MLP\u001b[39m.\u001b[39mtrain_mlp_models(data, epochs\u001b[39m=\u001b[39m\u001b[39m25\u001b[39m, lr\u001b[39m=\u001b[39m\u001b[39m0.01\u001b[39m, patience\u001b[39m=\u001b[39m\u001b[39m5\u001b[39m)\n",
      "File \u001b[0;32m~/snap/snapd-desktop-integration/49/Downloads/CS776/Assignment_1/Utils/GetData.py:14\u001b[0m, in \u001b[0;36mData.__init__\u001b[0;34m(self)\u001b[0m\n\u001b[1;32m     11\u001b[0m \u001b[39mdef\u001b[39;00m \u001b[39m__init__\u001b[39m(\u001b[39mself\u001b[39m) \u001b[39m-\u001b[39m\u001b[39m>\u001b[39m \u001b[39mNone\u001b[39;00m:\n\u001b[1;32m     12\u001b[0m     \u001b[39m# importing the raw data by unpickling the data\u001b[39;00m\n\u001b[1;32m     13\u001b[0m     raw_data \u001b[39m=\u001b[39m Data_Utils\u001b[39m.\u001b[39mget_train_data_all()\n\u001b[0;32m---> 14\u001b[0m     raw_data_aug \u001b[39m=\u001b[39m Data_Utils\u001b[39m.\u001b[39;49mget_train_data_aug()\n\u001b[1;32m     16\u001b[0m     \u001b[39m# importing the labels\u001b[39;00m\n\u001b[1;32m     17\u001b[0m     \u001b[39mself\u001b[39m\u001b[39m.\u001b[39mraw_labels \u001b[39m=\u001b[39m Data_Utils\u001b[39m.\u001b[39mget_labels()\n",
      "File \u001b[0;32m~/snap/snapd-desktop-integration/49/Downloads/CS776/Assignment_1/Utils/Data_Utils.py:42\u001b[0m, in \u001b[0;36mget_train_data_aug\u001b[0;34m()\u001b[0m\n\u001b[1;32m     41\u001b[0m \u001b[39mdef\u001b[39;00m \u001b[39mget_train_data_aug\u001b[39m():\n\u001b[0;32m---> 42\u001b[0m     \u001b[39mreturn\u001b[39;00m get_Augmented_Data(get_train_data_all())\n",
      "File \u001b[0;32m~/snap/snapd-desktop-integration/49/Downloads/CS776/Assignment_1/PreProcessor/Augment.py:23\u001b[0m, in \u001b[0;36mget_Augmented_Data\u001b[0;34m(data)\u001b[0m\n\u001b[1;32m     20\u001b[0m size \u001b[39m=\u001b[39m \u001b[39mlen\u001b[39m(data[\u001b[39mb\u001b[39m\u001b[39m'\u001b[39m\u001b[39mdata\u001b[39m\u001b[39m'\u001b[39m])\n\u001b[1;32m     22\u001b[0m \u001b[39mfor\u001b[39;00m i \u001b[39min\u001b[39;00m \u001b[39mrange\u001b[39m(size): \n\u001b[0;32m---> 23\u001b[0m     data2[\u001b[39mb\u001b[39m\u001b[39m'\u001b[39m\u001b[39mdata\u001b[39m\u001b[39m'\u001b[39m][i] \u001b[39m=\u001b[39m random_pre_process(data2[\u001b[39mb\u001b[39;49m\u001b[39m'\u001b[39;49m\u001b[39mdata\u001b[39;49m\u001b[39m'\u001b[39;49m][i])\n\u001b[1;32m     25\u001b[0m data2[\u001b[39mb\u001b[39m\u001b[39m'\u001b[39m\u001b[39mdata\u001b[39m\u001b[39m'\u001b[39m] \u001b[39m=\u001b[39m np\u001b[39m.\u001b[39mvstack((data[\u001b[39mb\u001b[39m\u001b[39m'\u001b[39m\u001b[39mdata\u001b[39m\u001b[39m'\u001b[39m], data2[\u001b[39mb\u001b[39m\u001b[39m'\u001b[39m\u001b[39mdata\u001b[39m\u001b[39m'\u001b[39m]))\n\u001b[1;32m     26\u001b[0m data2[\u001b[39mb\u001b[39m\u001b[39m'\u001b[39m\u001b[39mlabels\u001b[39m\u001b[39m'\u001b[39m] \u001b[39m=\u001b[39m data[\u001b[39mb\u001b[39m\u001b[39m'\u001b[39m\u001b[39mlabels\u001b[39m\u001b[39m'\u001b[39m] \u001b[39m+\u001b[39m data2[\u001b[39mb\u001b[39m\u001b[39m'\u001b[39m\u001b[39mlabels\u001b[39m\u001b[39m'\u001b[39m]\n",
      "File \u001b[0;32m~/snap/snapd-desktop-integration/49/Downloads/CS776/Assignment_1/PreProcessor/Augment.py:14\u001b[0m, in \u001b[0;36mrandom_pre_process\u001b[0;34m(image)\u001b[0m\n\u001b[1;32m     12\u001b[0m     \u001b[39mreturn\u001b[39;00m ImagePreProcessor\u001b[39m.\u001b[39mrandom_rotate(image)\n\u001b[1;32m     13\u001b[0m \u001b[39melif\u001b[39;00m rand \u001b[39m==\u001b[39m \u001b[39m3\u001b[39m:\n\u001b[0;32m---> 14\u001b[0m     \u001b[39mreturn\u001b[39;00m ImagePreProcessor\u001b[39m.\u001b[39;49mcontrast_and_flip(image)\n",
      "File \u001b[0;32m~/snap/snapd-desktop-integration/49/Downloads/CS776/Assignment_1/PreProcessor/ImagePreProcessor.py:103\u001b[0m, in \u001b[0;36mcontrast_and_flip\u001b[0;34m(image, x, y, channels)\u001b[0m\n\u001b[1;32m    101\u001b[0m flip \u001b[39m=\u001b[39m np\u001b[39m.\u001b[39mrandom\u001b[39m.\u001b[39mchoice([\u001b[39mTrue\u001b[39;00m, \u001b[39mFalse\u001b[39;00m], p\u001b[39m=\u001b[39m[\u001b[39m0.5\u001b[39m, \u001b[39m0.5\u001b[39m])\n\u001b[1;32m    102\u001b[0m \u001b[39mif\u001b[39;00m flip:\n\u001b[0;32m--> 103\u001b[0m     \u001b[39mreturn\u001b[39;00m horizontal_flip(contrast_image, x, y, channels)\n\u001b[1;32m    105\u001b[0m \u001b[39mreturn\u001b[39;00m contrast_image\n",
      "File \u001b[0;32m~/snap/snapd-desktop-integration/49/Downloads/CS776/Assignment_1/PreProcessor/ImagePreProcessor.py:91\u001b[0m, in \u001b[0;36mhorizontal_flip\u001b[0;34m(image, x, y, channels)\u001b[0m\n\u001b[1;32m     88\u001b[0m     \u001b[39mfor\u001b[39;00m j \u001b[39min\u001b[39;00m \u001b[39mrange\u001b[39m(y\u001b[39m/\u001b[39m\u001b[39m/\u001b[39m\u001b[39m2\u001b[39m):\n\u001b[1;32m     89\u001b[0m         \u001b[39mfor\u001b[39;00m k \u001b[39min\u001b[39;00m \u001b[39mrange\u001b[39m(channels):\n\u001b[1;32m     90\u001b[0m             \u001b[39m# swapping the pixels of 1st and last column\u001b[39;00m\n\u001b[0;32m---> 91\u001b[0m             image[i\u001b[39m+\u001b[39mj \u001b[39m+\u001b[39m k\u001b[39m*\u001b[39mx\u001b[39m*\u001b[39my], image[i\u001b[39m+\u001b[39m\u001b[39mabs\u001b[39m(j\u001b[39m-\u001b[39mx\u001b[39m+\u001b[39m\u001b[39m1\u001b[39m) \u001b[39m+\u001b[39m k\u001b[39m*\u001b[39mx\u001b[39m*\u001b[39my] \u001b[39m=\u001b[39m image[i\u001b[39m+\u001b[39m\u001b[39mabs\u001b[39;49m(j\u001b[39m-\u001b[39;49mx\u001b[39m+\u001b[39;49m\u001b[39m1\u001b[39;49m) \u001b[39m+\u001b[39m k\u001b[39m*\u001b[39mx\u001b[39m*\u001b[39my], image[i\u001b[39m+\u001b[39mj \u001b[39m+\u001b[39m k\u001b[39m*\u001b[39mx\u001b[39m*\u001b[39my]\n\u001b[1;32m     93\u001b[0m \u001b[39mreturn\u001b[39;00m image\n",
      "\u001b[0;31mKeyboardInterrupt\u001b[0m: "
     ]
    }
   ],
   "source": [
    "# defining the file paths\n",
    "svm_filepath = 'TrainedModels/svm_model'\n",
    "svm_aug_filepath = 'TrainedModels/svm_model_aug'\n",
    "\n",
    "knn_filepath = 'TrainedModels/knn_model'\n",
    "knn_aug_filepath = 'TrainedModels/knn_model_aug'\n",
    "\n",
    "logistic_filepath = 'TrainedModels/logistic_model'\n",
    "logistic_aug_filepath = 'TrainedModels/logistic_model_aug'\n",
    "\n",
    "dtc_filepath = 'TrainedModels/dtc_model'\n",
    "dtc_aug_filepath = 'TrainedModels/dtc_model_aug'\n",
    "\n",
    "from Utils.GetData import Data\n",
    "from Model import Train_ML_Models as ML\n",
    "from Model import Train_MLP_Models as MLP\n",
    "\n",
    "# importing data\n",
    "data = Data()\n",
    "\n",
    "# train the MLP models with these hyper parameters\n",
    "# trains on both original and augmented data\n",
    "MLP.train_mlp_models(data, epochs=25, lr=0.01, patience=5)\n",
    "\n",
    "# train the ML Models using the \n",
    "ML.train_all_models(data)\n",
    "\n",
    "# train using the augmented data\n",
    "ML.train_all_models_aug(data)\n",
    "\n",
    "ML.train_svm_model"
   ]
  }
 ],
 "metadata": {
  "kernelspec": {
   "display_name": "Python 3",
   "language": "python",
   "name": "python3"
  },
  "language_info": {
   "codemirror_mode": {
    "name": "ipython",
    "version": 3
   },
   "file_extension": ".py",
   "mimetype": "text/x-python",
   "name": "python",
   "nbconvert_exporter": "python",
   "pygments_lexer": "ipython3",
   "version": "3.10.6"
  },
  "orig_nbformat": 4,
  "vscode": {
   "interpreter": {
    "hash": "916dbcbb3f70747c44a77c7bcd40155683ae19c65e1c03b4aa3499c5328201f1"
   }
  }
 },
 "nbformat": 4,
 "nbformat_minor": 2
}
